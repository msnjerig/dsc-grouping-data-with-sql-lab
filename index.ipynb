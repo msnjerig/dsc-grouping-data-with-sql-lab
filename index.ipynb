{
 "cells": [
  {
   "cell_type": "markdown",
   "metadata": {},
   "source": [
    "# Grouping Data with SQL - Lab"
   ]
  },
  {
   "cell_type": "markdown",
   "metadata": {},
   "source": [
    "## Introduction\n",
    "\n",
    "In this lab, you'll query data from a table populated with Babe Ruth's career hitting statistics.  Then you'll use aggregate functions to pull interesting information from the table that basic queries cannot track. "
   ]
  },
  {
   "cell_type": "markdown",
   "metadata": {},
   "source": [
    "## Objectives"
   ]
  },
  {
   "cell_type": "markdown",
   "metadata": {},
   "source": [
    "* Describe the relationship between aggregate functions and `GROUP BY` statements\n",
    "* Use `Group BY` statements in SQL to apply aggregate functions like: `COUNT`, `MAX`, `MIN`, and `SUM`\n",
    "* Create an alias in a SQL query\n",
    "* Use the `HAVING` clause to compare different aggregates\n",
    "* Compare the difference between the `WHERE` and `HAVING` clause"
   ]
  },
  {
   "cell_type": "markdown",
   "metadata": {},
   "source": [
    "## Babe Ruth - Career Hitting Statistics\n",
    "\n",
    "The database you will be working with in this lab is located in the file `babe_ruth.db`. This database contains a single table, `babe_ruth_stats`. The table schema is:\n",
    "\n",
    "```\n",
    "CREATE TABLE babe_ruth_stats (\n",
    "  id INTEGER PRIMARY KEY,\n",
    "  year INTEGER,\n",
    "  team TEXT,\n",
    "  league TEXT,\n",
    "  doubles INTEGER,\n",
    "  triples INTEGER,\n",
    "  hits INTEGER,\n",
    "  HR INTEGER,\n",
    "  games INTEGER,\n",
    "  runs INTEGER,\n",
    "  RBI INTEGER,\n",
    "  at_bats INTEGER,\n",
    "  BB INTEGER,\n",
    "  SB INTEGER,\n",
    "  SO INTEGER,\n",
    "  AVG REAL\n",
    ")\n",
    "```\n",
    "\n",
    "The table contains the following data:\n",
    "\n",
    "year|team |league|doubles|triples|hits|HR|games|runs|RBI|at_bats|BB |SB|SO|AVG\n",
    "----|-----|------|-------|-------|----|--|-----|----|---|-------|---|--|--|------\n",
    "1914|\"BOS\"|\"AL\"  |1      |0      |2   |0 |5    |1   |2  |10     |0  |0 |4 |0.2\n",
    "1915|\"BOS\"|\"AL\"  |10     |1      |29  |4 |42   |16  |21 |92     |9  |0 |23|0.315\n",
    "1916|\"BOS\"|\"AL\"  |5      |3      |37  |3 |67   |18  |15 |136    |10 |0 |23|0.272\n",
    "1917|\"BOS\"|\"AL\"  |6      |3      |40  |2 |52   |14  |12 |123    |12 |0 |18|0.325\n",
    "1918|\"BOS\"|\"AL\"  |26     |11     |95  |11|95   |50  |66 |317    |58 |6 |58|0.3\n",
    "1919|\"BOS\"|\"AL\"  |34     |12     |139 |29|130  |103 |114|432    |101|7 |58|0.322\n",
    "1920|\"NY\" |\"AL\"  |36     |9      |172 |54|142  |158 |137|458    |150|14|80|0.376\n",
    "1921|\"NY\" |\"AL\"  |44     |16     |204 |59|152  |177 |171|540    |145|17|81|0.378\n",
    "1922|\"NY\" |\"AL\"  |24     |8      |128 |35|110  |94  |99 |406    |84 |2 |80|0.315\n",
    "1923|\"NY\" |\"AL\"  |45     |13     |205 |41|152  |151 |131|522    |170|17|93|0.393\n",
    "1924|\"NY\" |\"AL\"  |39     |7      |200 |46|153  |143 |121|529    |142|9 |81|0.378\n",
    "1925|\"NY\" |\"AL\"  |12     |2      |104 |25|98   |61  |66 |359    |59 |2 |68|0.29\n",
    "1926|\"NY\" |\"AL\"  |30     |5      |184 |47|152  |139 |146|495    |144|11|76|0.372\n",
    "1927|\"NY\" |\"AL\"  |29     |8      |192 |60|151  |158 |164|540    |137|7 |89|0.356\n",
    "1928|\"NY\" |\"AL\"  |29     |8      |173 |54|154  |163 |142|536    |137|4 |87|0.323\n",
    "1929|\"NY\" |\"AL\"  |26     |6      |172 |46|135  |121 |154|499    |72 |5 |60|0.345\n",
    "1930|\"NY\" |\"AL\"  |28     |9      |186 |49|145  |150 |153|518    |136|10|61|0.359\n",
    "1931|\"NY\" |\"AL\"  |31     |3      |199 |46|145  |149 |163|534    |128|5 |51|0.373\n",
    "1932|\"NY\" |\"AL\"  |13     |5      |156 |41|133  |120 |137|457    |130|2 |62|0.341\n",
    "1933|\"NY\" |\"AL\"  |21     |3      |138 |34|137  |97  |103|459    |114|4 |90|0.301\n",
    "1934|\"NY\" |\"AL\"  |17     |4      |105 |22|125  |78  |84 |365    |104|1 |63|0.288\n",
    "1935|\"BOS\"|\"NL\"  |0      |0      |13  |6 |28   |13  |12 |72     |20 |0 |24|0.181\n",
    "\n",
    "As you can see, each record in this table represents statistics for a baseball season."
   ]
  },
  {
   "cell_type": "markdown",
   "metadata": {},
   "source": [
    "## Connect to the Database"
   ]
  },
  {
   "cell_type": "markdown",
   "metadata": {},
   "source": [
    "Import `sqlite3` and `pandas`. Then, connect to the database in the `babe_ruth.db` file."
   ]
  },
  {
   "cell_type": "code",
   "execution_count": 22,
   "metadata": {},
   "outputs": [],
   "source": [
    "# Your code here\n",
    "import sqlite3\n",
    "import pandas as pd   \n",
    "\n",
    "conn = sqlite3.connect('babe_ruth.db')"
   ]
  },
  {
   "cell_type": "markdown",
   "metadata": {},
   "source": [
    "Now, write SQL queries to answer questions about the data in the `babe_ruth_stats` table. You can display all results using pandas for readability."
   ]
  },
  {
   "cell_type": "markdown",
   "metadata": {},
   "source": [
    "## Total Seasons\n",
    "Return the total number of years that Babe Ruth played professional baseball"
   ]
  },
  {
   "cell_type": "code",
   "execution_count": 23,
   "metadata": {},
   "outputs": [
    {
     "name": "stdout",
     "output_type": "stream",
     "text": [
      "   year  total_years\n",
      "0  1914           22\n"
     ]
    }
   ],
   "source": [
    "# Your code here\n",
    "q1 = \"\"\" \n",
    "SELECT year, COUNT(*) AS total_years\n",
    "FROM babe_ruth_stats\n",
    "\"\"\"\n",
    "df_1 = pd.read_sql(q1, conn)\n",
    "print(df_1)"
   ]
  },
  {
   "cell_type": "markdown",
   "metadata": {},
   "source": [
    "## Seasons with NY\n",
    "Return the total number of years Babe Ruth played with the NY Yankees (i.e. where the `team` value is `\"NY\"`)."
   ]
  },
  {
   "cell_type": "code",
   "execution_count": 24,
   "metadata": {},
   "outputs": [
    {
     "name": "stdout",
     "output_type": "stream",
     "text": [
      "  team  COUNT (*)\n",
      "0   NY         15\n"
     ]
    }
   ],
   "source": [
    "# Your code here\n",
    "q2 = \"\"\" \n",
    "SELECT team, COUNT (*)\n",
    "FROM babe_ruth_stats\n",
    "WHERE team = 'NY';\n",
    "\"\"\"\n",
    "df_2 = pd.read_sql(q2, conn)\n",
    "print(df_2)"
   ]
  },
  {
   "cell_type": "markdown",
   "metadata": {},
   "source": [
    "## Most Home Runs\n",
    "\n",
    "Return the row with the most HR that Babe Ruth hit in one season."
   ]
  },
  {
   "cell_type": "code",
   "execution_count": 25,
   "metadata": {},
   "outputs": [
    {
     "name": "stdout",
     "output_type": "stream",
     "text": [
      "   HR  most_home_runs\n",
      "0  60              60\n"
     ]
    }
   ],
   "source": [
    "# Your code here\n",
    "q3 = \"\"\" \n",
    "SELECT HR, \n",
    "MAX(HR) AS most_home_runs\n",
    "FROM babe_ruth_stats\n",
    "\"\"\"\n",
    "df_3 = pd.read_sql(q3, conn)\n",
    "print(df_3)"
   ]
  },
  {
   "cell_type": "markdown",
   "metadata": {},
   "source": [
    "## Least HR\n",
    "Select the row with the least number of HR hit in one season."
   ]
  },
  {
   "cell_type": "code",
   "execution_count": 26,
   "metadata": {},
   "outputs": [
    {
     "name": "stdout",
     "output_type": "stream",
     "text": [
      "   HR  least_home_runs\n",
      "0   0                0\n"
     ]
    }
   ],
   "source": [
    "# Your code here\n",
    "q4 = \"\"\" \n",
    "SELECT HR,\n",
    "MIN(HR) AS least_home_runs\n",
    "FROM babe_ruth_stats\n",
    "\"\"\"\n",
    "df_4 = pd.read_sql(q4, conn)\n",
    "print(df_4)"
   ]
  },
  {
   "cell_type": "markdown",
   "metadata": {},
   "source": [
    "## Total HR\n",
    "Return the total number of HR hit by Babe Ruth during his career."
   ]
  },
  {
   "cell_type": "code",
   "execution_count": 27,
   "metadata": {},
   "outputs": [
    {
     "name": "stdout",
     "output_type": "stream",
     "text": [
      "   HR  SUM(HR)\n",
      "0   0      714\n"
     ]
    }
   ],
   "source": [
    "# Your code here\n",
    "q5 = \"\"\" \n",
    "SELECT HR,\n",
    "SUM(HR)\n",
    "FROM babe_ruth_stats\n",
    "\"\"\"\n",
    "df_5 = pd.read_sql(q5, conn)\n",
    "print(df_5)"
   ]
  },
  {
   "cell_type": "markdown",
   "metadata": {},
   "source": [
    "##  Five Worst HR Seasons With at Least 100 Games Played\n",
    "Above you saw that Babe Ruth hit 0 home runs in his first year when he played only five games.  To avoid this and other extreme  outliers, first filter the data to include only those years in which Ruth played in at least 100 games. Then, select all of the columns for the 5 worst seasons, in terms of the number of home runs, where he played over 100 games."
   ]
  },
  {
   "cell_type": "code",
   "execution_count": 33,
   "metadata": {},
   "outputs": [
    {
     "name": "stdout",
     "output_type": "stream",
     "text": [
      "   id  year team league  doubles  triples  hits  HR  games  runs  RBI  \\\n",
      "0  21  1934   NY     AL       17        4   105  22    125    78   84   \n",
      "1   6  1919  BOS     AL       34       12   139  29    130   103  114   \n",
      "2  20  1933   NY     AL       21        3   138  34    137    97  103   \n",
      "3   9  1922   NY     AL       24        8   128  35    110    94   99   \n",
      "4  10  1923   NY     AL       45       13   205  41    152   151  131   \n",
      "\n",
      "   at_bats   BB  SB  SO    AVG  \n",
      "0      365  104   1  63  0.288  \n",
      "1      432  101   7  58  0.322  \n",
      "2      459  114   4  90  0.301  \n",
      "3      406   84   2  80  0.315  \n",
      "4      522  170  17  93  0.393  \n"
     ]
    }
   ],
   "source": [
    "# Your code here\n",
    "q6 = \"\"\" \n",
    "SELECT *\n",
    "FROM babe_ruth_stats\n",
    "WHERE games >= 100\n",
    "ORDER BY HR ASC\n",
    "LIMIT 5;\n",
    "\"\"\"\n",
    "df_6 = pd.read_sql(q6, conn)\n",
    "print(df_6)"
   ]
  },
  {
   "cell_type": "markdown",
   "metadata": {},
   "source": [
    "## Average Batting Average\n",
    "Select the average, `AVG`, of Ruth's batting averages.  The header of the result would be `AVG(AVG)` which is quite confusing, so provide an alias of `career_average`."
   ]
  },
  {
   "cell_type": "code",
   "execution_count": 39,
   "metadata": {},
   "outputs": [
    {
     "name": "stdout",
     "output_type": "stream",
     "text": [
      "   career_average\n",
      "0        0.322864\n"
     ]
    }
   ],
   "source": [
    "# Your code here\n",
    "q7 = \"\"\" \n",
    "SELECT AVG(AVG) AS career_average\n",
    "FROM babe_ruth_stats;\n",
    "\"\"\"\n",
    "df_7 = pd.read_sql(q7, conn)\n",
    "print(df_7)"
   ]
  },
  {
   "cell_type": "markdown",
   "metadata": {},
   "source": [
    "## Number of Years with Over 300 Times On Base\n",
    "We want to know the years in which Ruth successfully reached base over 300 times.  We need to add `hits` and `BB` to calculate how many times Ruth reached base.  Simply add the two columns together (ie: `SELECT [columnName] + [columnName] AS ...`) and give this value an alias of `on_base`.  Select the `year` and `on_base` for only those years with an `on_base` over 300.  "
   ]
  },
  {
   "cell_type": "code",
   "execution_count": 41,
   "metadata": {},
   "outputs": [
    {
     "name": "stdout",
     "output_type": "stream",
     "text": [
      "   year  on_base\n",
      "0  1920      322\n",
      "1  1921      349\n",
      "2  1923      375\n",
      "3  1924      342\n",
      "4  1926      328\n",
      "5  1927      329\n",
      "6  1928      310\n",
      "7  1930      322\n",
      "8  1931      327\n"
     ]
    }
   ],
   "source": [
    "# Your code here\n",
    "q8 = \"\"\" \n",
    "SELECT year, hits + BB AS on_base\n",
    "FROM babe_ruth_stats\n",
    "WHERE (hits +  BB) > 300\n",
    "\"\"\"\n",
    "df_8 = pd.read_sql(q8, conn)\n",
    "print(df_8)"
   ]
  },
  {
   "cell_type": "markdown",
   "metadata": {},
   "source": [
    "## Total Years and Hits Per Team\n",
    "Select the total number of years played (as `num_seasons`) and total hits (as `total_hits`) Babe Ruth had for each team he played for. The result should have 2 rows, one for each team."
   ]
  },
  {
   "cell_type": "code",
   "execution_count": 45,
   "metadata": {},
   "outputs": [
    {
     "name": "stdout",
     "output_type": "stream",
     "text": [
      "  team  num_seasons  total_hits\n",
      "0  BOS            7         355\n",
      "1   NY           15        2518\n"
     ]
    }
   ],
   "source": [
    "# Your code here\n",
    "q9 = \"\"\"\n",
    "SELECT team, \n",
    "COUNT(year) AS num_seasons, \n",
    "SUM(hits) AS total_hits\n",
    "FROM babe_ruth_stats\n",
    "GROUP BY team;\n",
    "\"\"\"\n",
    "df_9 = pd.read_sql(q9, conn)\n",
    "print(df_9)"
   ]
  },
  {
   "cell_type": "markdown",
   "metadata": {},
   "source": [
    "## Teams with More than 10 Seasons\n",
    "Repeat the above query, this time only including teams where he played for more than 10 years.\n",
    "\n",
    "**Hint:** Think about whether this filtering occurs before or after the `GROUP BY`. If before, that's a `WHERE`. If after, that's a `HAVING`."
   ]
  },
  {
   "cell_type": "code",
   "execution_count": 46,
   "metadata": {},
   "outputs": [
    {
     "name": "stdout",
     "output_type": "stream",
     "text": [
      "  team  num_seasons  total_hits\n",
      "0   NY           15        2518\n"
     ]
    }
   ],
   "source": [
    "# Your code here\n",
    "q10 = \"\"\"\n",
    "SELECT team, \n",
    "COUNT(year) AS num_seasons, \n",
    "SUM(hits) AS total_hits\n",
    "FROM babe_ruth_stats\n",
    "GROUP BY team\n",
    "HAVING COUNT(year) > 10\n",
    "\"\"\"\n",
    "df_10 = pd.read_sql(q10, conn)\n",
    "print(df_10)"
   ]
  },
  {
   "cell_type": "markdown",
   "metadata": {},
   "source": [
    "## Team with Highest Average At Bats\n",
    "\n",
    "Select the name of the team and the average at bats per season (as `average_at_bats`), for the team where he averaged the highest at bats."
   ]
  },
  {
   "cell_type": "code",
   "execution_count": 49,
   "metadata": {},
   "outputs": [
    {
     "name": "stdout",
     "output_type": "stream",
     "text": [
      "  team  average_at_bats\n",
      "0   NY       481.133333\n"
     ]
    }
   ],
   "source": [
    "# Your code here\n",
    "q11 = \"\"\" \n",
    "SELECT \n",
    "team, \n",
    "AVG(at_bats) AS average_at_bats\n",
    "FROM babe_ruth_stats\n",
    "GROUP BY team\n",
    "ORDER BY average_at_bats DESC\n",
    "LIMIT 1;\n",
    "\n",
    "\"\"\"\n",
    "df_11 = pd.read_sql(q11, conn)\n",
    "print(df_11)"
   ]
  },
  {
   "cell_type": "markdown",
   "metadata": {},
   "source": [
    "## Teams with Average At Bats Over 100\n",
    "\n",
    "Repeat the above query, this time returning all teams where the `average_at_bats` was over 100."
   ]
  },
  {
   "cell_type": "code",
   "execution_count": 50,
   "metadata": {},
   "outputs": [
    {
     "name": "stdout",
     "output_type": "stream",
     "text": [
      "  team  average_at_bats\n",
      "0  BOS       168.857143\n",
      "1   NY       481.133333\n"
     ]
    }
   ],
   "source": [
    "# Your code here\n",
    "q12 = \"\"\" \n",
    "SELECT \n",
    "team, \n",
    "AVG(at_bats) AS average_at_bats\n",
    "FROM babe_ruth_stats\n",
    "GROUP BY team\n",
    "HAVING average_at_bats > 100;\n",
    "\n",
    "\"\"\"\n",
    "df_12 = pd.read_sql(q12, conn)\n",
    "print(df_12)"
   ]
  },
  {
   "cell_type": "markdown",
   "metadata": {},
   "source": [
    "## Summary"
   ]
  },
  {
   "cell_type": "markdown",
   "metadata": {},
   "source": [
    "Well done! In this lab, you continued to add complexity to SQL statements, which included using some aggregate functions, the `GROUP BY` statement, and the `HAVING` statement. You wrote queries that showed Babe Ruth's total years and home runs per team as well as selected only years that met a minimum value of our calculated on base attribute. "
   ]
  }
 ],
 "metadata": {
  "kernelspec": {
   "display_name": "Python 3",
   "language": "python",
   "name": "python3"
  },
  "language_info": {
   "codemirror_mode": {
    "name": "ipython",
    "version": 3
   },
   "file_extension": ".py",
   "mimetype": "text/x-python",
   "name": "python",
   "nbconvert_exporter": "python",
   "pygments_lexer": "ipython3",
   "version": "3.13.1"
  },
  "toc": {
   "base_numbering": 1,
   "nav_menu": {},
   "number_sections": true,
   "sideBar": true,
   "skip_h1_title": false,
   "title_cell": "Table of Contents",
   "title_sidebar": "Contents",
   "toc_cell": false,
   "toc_position": {},
   "toc_section_display": true,
   "toc_window_display": false
  }
 },
 "nbformat": 4,
 "nbformat_minor": 2
}
